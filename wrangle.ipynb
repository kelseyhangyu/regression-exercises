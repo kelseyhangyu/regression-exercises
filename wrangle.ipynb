{
 "cells": [
  {
   "cell_type": "markdown",
   "id": "40f15c53-55a9-4259-a873-079e71b986a3",
   "metadata": {},
   "source": [
    "# To predict the values of single unit properties using the observations from 2017."
   ]
  },
  {
   "cell_type": "code",
   "execution_count": 1,
   "id": "760f31bc-abf7-4949-ace9-463023302fb0",
   "metadata": {},
   "outputs": [],
   "source": [
    "import env\n",
    "import wrangle"
   ]
  },
  {
   "cell_type": "code",
   "execution_count": 2,
   "id": "77ab93fe-3d0d-4d52-b1b6-c5899cdd375f",
   "metadata": {},
   "outputs": [
    {
     "name": "stdout",
     "output_type": "stream",
     "text": [
      "this file exists, reading from csv\n"
     ]
    }
   ],
   "source": [
    "zillow = wrangle.get_zillow()"
   ]
  },
  {
   "cell_type": "code",
   "execution_count": 6,
   "id": "7ec7e8a3-0a85-43c6-a838-2cc5ee44095b",
   "metadata": {},
   "outputs": [
    {
     "name": "stdout",
     "output_type": "stream",
     "text": [
      "<class 'pandas.core.frame.DataFrame'>\n",
      "Index: 2982285 entries, 0 to 2982284\n",
      "Data columns (total 9 columns):\n",
      " #   Column                        Non-Null Count    Dtype  \n",
      "---  ------                        --------------    -----  \n",
      " 0   bedroomcnt                    2982272 non-null  float64\n",
      " 1   bathroomcnt                   2982260 non-null  float64\n",
      " 2   calculatedfinishedsquarefeet  2940120 non-null  float64\n",
      " 3   structuretaxvaluedollarcnt    2938753 non-null  float64\n",
      " 4   taxvaluedollarcnt             2950951 non-null  float64\n",
      " 5   yearbuilt                     2937384 non-null  float64\n",
      " 6   taxamount                     2962465 non-null  float64\n",
      " 7   fips                          2982285 non-null  float64\n",
      " 8   propertylandusedesc           2982285 non-null  object \n",
      "dtypes: float64(8), object(1)\n",
      "memory usage: 227.5+ MB\n"
     ]
    }
   ],
   "source": [
    "zillow.info(verbose=True,show_counts=True)"
   ]
  },
  {
   "cell_type": "code",
   "execution_count": 3,
   "id": "43c69559-0fe6-40ff-8b16-088fa84508e5",
   "metadata": {},
   "outputs": [
    {
     "name": "stderr",
     "output_type": "stream",
     "text": [
      "/Users/kelseyyu/Desktop/Codeup/codeup-data-science/regression-exercises/wrangle.py:66: SettingWithCopyWarning: \n",
      "A value is trying to be set on a copy of a slice from a DataFrame.\n",
      "Try using .loc[row_indexer,col_indexer] = value instead\n",
      "\n",
      "See the caveats in the documentation: https://pandas.pydata.org/pandas-docs/stable/user_guide/indexing.html#returning-a-view-versus-a-copy\n",
      "  zillow['FIPS'] = zillow['FIPS'].replace(class_mapping)\n"
     ]
    }
   ],
   "source": [
    "zillow = wrangle.prep_zillow(zillow)"
   ]
  },
  {
   "cell_type": "code",
   "execution_count": 4,
   "id": "c6036196-4636-4bdf-83ae-2937bc129098",
   "metadata": {},
   "outputs": [
    {
     "data": {
      "text/html": [
       "<div>\n",
       "<style scoped>\n",
       "    .dataframe tbody tr th:only-of-type {\n",
       "        vertical-align: middle;\n",
       "    }\n",
       "\n",
       "    .dataframe tbody tr th {\n",
       "        vertical-align: top;\n",
       "    }\n",
       "\n",
       "    .dataframe thead th {\n",
       "        text-align: right;\n",
       "    }\n",
       "</style>\n",
       "<table border=\"1\" class=\"dataframe\">\n",
       "  <thead>\n",
       "    <tr style=\"text-align: right;\">\n",
       "      <th></th>\n",
       "      <th>Bedroom Count</th>\n",
       "      <th>Bathroom Count</th>\n",
       "      <th>Finished Square Feet</th>\n",
       "      <th>Structure Tax Value</th>\n",
       "      <th>Tax Value</th>\n",
       "      <th>Year Built</th>\n",
       "      <th>Tax Amount</th>\n",
       "      <th>FIPS</th>\n",
       "      <th>Property Land Use</th>\n",
       "    </tr>\n",
       "  </thead>\n",
       "  <tbody>\n",
       "    <tr>\n",
       "      <th>2</th>\n",
       "      <td>0.0</td>\n",
       "      <td>0.0</td>\n",
       "      <td>73026.0</td>\n",
       "      <td>660680.0</td>\n",
       "      <td>1434941.0</td>\n",
       "      <td>1959.0</td>\n",
       "      <td>20800.37</td>\n",
       "      <td>LA County</td>\n",
       "      <td>Store/Office (Mixed Use)</td>\n",
       "    </tr>\n",
       "    <tr>\n",
       "      <th>3</th>\n",
       "      <td>0.0</td>\n",
       "      <td>0.0</td>\n",
       "      <td>5068.0</td>\n",
       "      <td>580059.0</td>\n",
       "      <td>1174475.0</td>\n",
       "      <td>1948.0</td>\n",
       "      <td>14557.57</td>\n",
       "      <td>LA County</td>\n",
       "      <td>Store/Office (Mixed Use)</td>\n",
       "    </tr>\n",
       "    <tr>\n",
       "      <th>4</th>\n",
       "      <td>0.0</td>\n",
       "      <td>0.0</td>\n",
       "      <td>1776.0</td>\n",
       "      <td>196751.0</td>\n",
       "      <td>440101.0</td>\n",
       "      <td>1947.0</td>\n",
       "      <td>5725.17</td>\n",
       "      <td>LA County</td>\n",
       "      <td>Commercial/Office/Residential Mixed Used</td>\n",
       "    </tr>\n",
       "    <tr>\n",
       "      <th>5</th>\n",
       "      <td>0.0</td>\n",
       "      <td>0.0</td>\n",
       "      <td>2400.0</td>\n",
       "      <td>179072.0</td>\n",
       "      <td>287634.0</td>\n",
       "      <td>1943.0</td>\n",
       "      <td>3661.28</td>\n",
       "      <td>LA County</td>\n",
       "      <td>Commercial/Office/Residential Mixed Used</td>\n",
       "    </tr>\n",
       "    <tr>\n",
       "      <th>7</th>\n",
       "      <td>0.0</td>\n",
       "      <td>0.0</td>\n",
       "      <td>3611.0</td>\n",
       "      <td>103553.0</td>\n",
       "      <td>698984.0</td>\n",
       "      <td>1946.0</td>\n",
       "      <td>7857.84</td>\n",
       "      <td>LA County</td>\n",
       "      <td>Commercial/Office/Residential Mixed Used</td>\n",
       "    </tr>\n",
       "  </tbody>\n",
       "</table>\n",
       "</div>"
      ],
      "text/plain": [
       "   Bedroom Count  Bathroom Count  Finished Square Feet  Structure Tax Value  \\\n",
       "2            0.0             0.0               73026.0             660680.0   \n",
       "3            0.0             0.0                5068.0             580059.0   \n",
       "4            0.0             0.0                1776.0             196751.0   \n",
       "5            0.0             0.0                2400.0             179072.0   \n",
       "7            0.0             0.0                3611.0             103553.0   \n",
       "\n",
       "   Tax Value  Year Built  Tax Amount       FIPS  \\\n",
       "2  1434941.0      1959.0    20800.37  LA County   \n",
       "3  1174475.0      1948.0    14557.57  LA County   \n",
       "4   440101.0      1947.0     5725.17  LA County   \n",
       "5   287634.0      1943.0     3661.28  LA County   \n",
       "7   698984.0      1946.0     7857.84  LA County   \n",
       "\n",
       "                          Property Land Use  \n",
       "2                  Store/Office (Mixed Use)  \n",
       "3                  Store/Office (Mixed Use)  \n",
       "4  Commercial/Office/Residential Mixed Used  \n",
       "5  Commercial/Office/Residential Mixed Used  \n",
       "7  Commercial/Office/Residential Mixed Used  "
      ]
     },
     "execution_count": 4,
     "metadata": {},
     "output_type": "execute_result"
    }
   ],
   "source": [
    "zillow.head()"
   ]
  },
  {
   "cell_type": "code",
   "execution_count": 5,
   "id": "c61c1c32-a05c-4551-b345-506bd54174be",
   "metadata": {},
   "outputs": [
    {
     "data": {
      "text/plain": [
       "(         Bedroom Count  Bathroom Count  Finished Square Feet  \\\n",
       " 793199             3.0             2.0                1433.0   \n",
       " 1094025            4.0             1.0                2338.0   \n",
       " 1272586            3.0             3.0                1980.0   \n",
       " 96098              6.0             3.0                2232.0   \n",
       " 990846             7.0             4.0                2578.0   \n",
       " ...                ...             ...                   ...   \n",
       " 2009950            3.0             2.0                1661.0   \n",
       " 1276046            1.0             2.0                1117.0   \n",
       " 28810              4.0             3.0                2743.0   \n",
       " 285907             3.0             2.0                1322.0   \n",
       " 795717             2.0             2.0                1592.0   \n",
       " \n",
       "          Structure Tax Value  Tax Value  Year Built  Tax Amount  \\\n",
       " 793199              123152.0   239685.0      1977.0     3226.89   \n",
       " 1094025              36225.0    92119.0      1915.0     1807.37   \n",
       " 1272586              61698.0    94187.0      1951.0     1279.68   \n",
       " 96098                62413.0   197643.0      1945.0     2804.61   \n",
       " 990846               76082.0   253615.0      1923.0     3346.61   \n",
       " ...                      ...        ...         ...         ...   \n",
       " 2009950             119882.0   193375.0      1966.0     2353.38   \n",
       " 1276046             114951.0   210176.0      1963.0     2485.34   \n",
       " 28810               383645.0   647744.0      2003.0    10442.12   \n",
       " 285907              168939.0   340909.0      1952.0     4268.83   \n",
       " 795717              106748.0   160685.0      1958.0     2087.32   \n",
       " \n",
       "                   FIPS                   Property Land Use  \n",
       " 793199       LA County           Single Family Residential  \n",
       " 1094025      LA County           Single Family Residential  \n",
       " 1272586      LA County           Single Family Residential  \n",
       " 96098        LA County   Duplex (2 Units, Any Combination)  \n",
       " 990846       LA County  Triplex (3 Units, Any Combination)  \n",
       " ...                ...                                 ...  \n",
       " 2009950  Orange County           Single Family Residential  \n",
       " 1276046      LA County                         Condominium  \n",
       " 28810    Orange County           Single Family Residential  \n",
       " 285907       LA County           Single Family Residential  \n",
       " 795717       LA County           Single Family Residential  \n",
       " \n",
       " [1740140 rows x 9 columns],\n",
       "          Bedroom Count  Bathroom Count  Finished Square Feet  \\\n",
       " 152537             2.0             1.0                1078.0   \n",
       " 2597495            2.0             2.0                1035.0   \n",
       " 2557202            2.0             1.0                 832.0   \n",
       " 2030838            4.0             3.0                1992.0   \n",
       " 2346695            3.0             2.0                1221.0   \n",
       " ...                ...             ...                   ...   \n",
       " 1001442            2.0             2.0                1736.0   \n",
       " 508347             2.0             2.0                1300.0   \n",
       " 2308812            2.0             2.5                1317.0   \n",
       " 774530             1.0             1.0                1317.0   \n",
       " 2972413            3.0             1.0                1356.0   \n",
       " \n",
       "          Structure Tax Value  Tax Value  Year Built  Tax Amount  \\\n",
       " 152537               86000.0   430000.0      1941.0     5823.58   \n",
       " 2597495             190601.0   270417.0      1990.0     4364.32   \n",
       " 2557202              92148.0   153579.0      1926.0     2468.48   \n",
       " 2030838             246879.0   435330.0      1951.0     5354.40   \n",
       " 2346695             169000.0   634000.0      1952.0     7398.71   \n",
       " ...                      ...        ...         ...         ...   \n",
       " 1001442              67605.0   115094.0      1941.0     1308.52   \n",
       " 508347               52370.0    89622.0      1967.0     1332.53   \n",
       " 2308812             172470.0   413524.0      1994.0     4156.28   \n",
       " 774530              115700.0   210000.0      2003.0     2998.93   \n",
       " 2972413              16749.0    37642.0      1913.0      556.18   \n",
       " \n",
       "                   FIPS          Property Land Use  \n",
       " 152537       LA County  Single Family Residential  \n",
       " 2597495      LA County                Condominium  \n",
       " 2557202      LA County  Single Family Residential  \n",
       " 2030838      LA County  Single Family Residential  \n",
       " 2346695      LA County  Single Family Residential  \n",
       " ...                ...                        ...  \n",
       " 1001442      LA County  Single Family Residential  \n",
       " 508347       LA County   Planned Unit Development  \n",
       " 2308812  Orange County  Single Family Residential  \n",
       " 774530       LA County                Condominium  \n",
       " 2972413      LA County  Single Family Residential  \n",
       " \n",
       " [580047 rows x 9 columns],\n",
       "          Bedroom Count  Bathroom Count  Finished Square Feet  \\\n",
       " 2207672            2.0             2.0                1440.0   \n",
       " 838362             4.0             2.0                1589.0   \n",
       " 2701170            4.0             4.0                2308.0   \n",
       " 2845939            3.0             2.5                1702.0   \n",
       " 1962346            4.0             3.0                2410.0   \n",
       " ...                ...             ...                   ...   \n",
       " 895151             2.0             2.0                1776.0   \n",
       " 1117263            3.0             2.0                1276.0   \n",
       " 2605474            3.0             2.0                1224.0   \n",
       " 2093989            4.0             3.0                2499.0   \n",
       " 811142             5.0             3.0                1966.0   \n",
       " \n",
       "          Structure Tax Value  Tax Value  Year Built  Tax Amount  \\\n",
       " 2207672              32000.0   310000.0      1981.0     3315.36   \n",
       " 838362              114928.0   143624.0      1995.0     3263.30   \n",
       " 2701170             134712.0   269424.0      1947.0     3095.69   \n",
       " 2845939             214643.0   599172.0      1996.0     8365.98   \n",
       " 1962346             298615.0   777701.0      1998.0     9293.44   \n",
       " ...                      ...        ...         ...         ...   \n",
       " 895151              211172.0   525899.0      1964.0     5501.98   \n",
       " 1117263              88466.0   189007.0      2000.0     2340.38   \n",
       " 2605474              55377.0   324583.0      1959.0     4276.36   \n",
       " 2093989             266711.0   712047.0      1968.0     7826.26   \n",
       " 811142                7167.0   258423.0      1911.0     3261.82   \n",
       " \n",
       "                    FIPS                           Property Land Use  \n",
       " 2207672  Ventura County  Manufactured, Modular, Prefabricated Homes  \n",
       " 838362        LA County                   Single Family Residential  \n",
       " 2701170       LA County           Duplex (2 Units, Any Combination)  \n",
       " 2845939   Orange County                   Single Family Residential  \n",
       " 1962346       LA County                                 Condominium  \n",
       " ...                 ...                                         ...  \n",
       " 895151   Ventura County                   Single Family Residential  \n",
       " 1117263  Ventura County                   Single Family Residential  \n",
       " 2605474   Orange County                   Single Family Residential  \n",
       " 2093989       LA County                   Single Family Residential  \n",
       " 811142        LA County           Duplex (2 Units, Any Combination)  \n",
       " \n",
       " [580047 rows x 9 columns])"
      ]
     },
     "execution_count": 5,
     "metadata": {},
     "output_type": "execute_result"
    }
   ],
   "source": [
    "wrangle.split_zillow(zillow)"
   ]
  },
  {
   "cell_type": "code",
   "execution_count": 11,
   "id": "1d7a682c-bf84-48ca-91f8-4be3494b9e77",
   "metadata": {},
   "outputs": [
    {
     "data": {
      "text/plain": [
       "Index(['Bedroom Count', 'Bathroom Count', 'Finished Square Feet',\n",
       "       'Structure Tax Value', 'Tax Value', 'Year Built', 'Tax Amount', 'FIPS',\n",
       "       'Property Land Use'],\n",
       "      dtype='object')"
      ]
     },
     "execution_count": 11,
     "metadata": {},
     "output_type": "execute_result"
    }
   ],
   "source": [
    "zillow.columns"
   ]
  },
  {
   "cell_type": "markdown",
   "id": "31ed9484-2dcd-48d8-92db-c8af71b8a1d3",
   "metadata": {},
   "source": [
    "# Exploration"
   ]
  },
  {
   "cell_type": "code",
   "execution_count": 6,
   "id": "8d9d0fb3-83fd-450a-8493-484cf719490f",
   "metadata": {},
   "outputs": [
    {
     "name": "stdout",
     "output_type": "stream",
     "text": [
      "Column 'Bedroom Count': 0 NaN values,(0.0000%)\n",
      "Column 'Bathroom Count': 0 NaN values,(0.0000%)\n",
      "Column 'Finished Square Feet': 0 NaN values,(0.0000%)\n",
      "Column 'Structure Tax Value': 0 NaN values,(0.0000%)\n",
      "Column 'Tax Value': 0 NaN values,(0.0000%)\n",
      "Column 'Year Built': 0 NaN values,(0.0000%)\n",
      "Column 'Tax Amount': 0 NaN values,(0.0000%)\n",
      "Column 'FIPS': 0 NaN values,(0.0000%)\n",
      "Column 'Property Land Use': 0 NaN values,(0.0000%)\n"
     ]
    }
   ],
   "source": [
    "import pandas as pd\n",
    "columns = ['Bedroom Count', 'Bathroom Count', 'Finished Square Feet',\n",
    "       'Structure Tax Value', 'Tax Value', 'Year Built', 'Tax Amount', 'FIPS',\n",
    "       'Property Land Use']\n",
    "\n",
    "for i in columns:\n",
    "    nan_count = zillow[i].isnull().sum()\n",
    "    nan_percentage = (nan_count / len(zillow)) * 100\n",
    "    print(f\"Column '{i}': {nan_count} NaN values,({nan_percentage:.4f}%)\")"
   ]
  },
  {
   "cell_type": "code",
   "execution_count": 12,
   "id": "e1dac946-fcb6-42b1-83d1-a07b0f01eeab",
   "metadata": {},
   "outputs": [
    {
     "name": "stdout",
     "output_type": "stream",
     "text": [
      "Bedroom Count\n"
     ]
    },
    {
     "data": {
      "image/png": "[encoded data removed]",
      "text/plain": [
       "<Figure size 640x480 with 1 Axes>"
      ]
     },
     "metadata": {},
     "output_type": "display_data"
    },
    {
     "name": "stdout",
     "output_type": "stream",
     "text": [
      "Bedroom Count\n",
      "0.0       45281\n",
      "1.0       86412\n",
      "2.0      604618\n",
      "3.0     1170236\n",
      "4.0      729673\n",
      "5.0      182108\n",
      "6.0       48503\n",
      "7.0       12647\n",
      "8.0       13274\n",
      "9.0        4213\n",
      "10.0       1669\n",
      "11.0        415\n",
      "12.0        939\n",
      "13.0         83\n",
      "14.0         64\n",
      "15.0         22\n",
      "16.0         47\n",
      "17.0         11\n",
      "18.0          9\n",
      "19.0          1\n",
      "20.0          6\n",
      "21.0          1\n",
      "23.0          1\n",
      "25.0          1\n",
      "Name: count, dtype: int64\n",
      "\n",
      "Bathroom Count\n"
     ]
    },
    {
     "data": {
      "image/png": "[encoded data removed]",
      "text/plain": [
       "<Figure size 640x480 with 1 Axes>"
      ]
     },
     "metadata": {},
     "output_type": "display_data"
    },
    {
     "name": "stdout",
     "output_type": "stream",
     "text": [
      "Bathroom Count\n",
      "0.00       40143\n",
      "0.50          16\n",
      "1.00      496810\n",
      "1.50       45657\n",
      "1.75           4\n",
      "2.00     1217150\n",
      "2.50      208489\n",
      "3.00      631594\n",
      "3.50       31764\n",
      "4.00      132874\n",
      "4.50       19830\n",
      "5.00       38320\n",
      "5.50        6259\n",
      "6.00       16300\n",
      "6.50        1347\n",
      "7.00        6182\n",
      "7.50         383\n",
      "8.00        4490\n",
      "8.50         111\n",
      "9.00        1323\n",
      "9.50          50\n",
      "10.00        487\n",
      "10.50         14\n",
      "11.00        198\n",
      "11.50          3\n",
      "12.00        264\n",
      "12.50          3\n",
      "13.00         53\n",
      "14.00         39\n",
      "14.50          1\n",
      "15.00         20\n",
      "16.00         23\n",
      "17.00          8\n",
      "18.00         12\n",
      "19.00          3\n",
      "19.50          1\n",
      "20.00          7\n",
      "31.00          1\n",
      "32.00          1\n",
      "Name: count, dtype: int64\n",
      "\n",
      "Finished Square Feet\n"
     ]
    },
    {
     "data": {
      "image/png": "[encoded data removed]",
      "text/plain": [
       "<Figure size 640x480 with 1 Axes>"
      ]
     },
     "metadata": {},
     "output_type": "display_data"
    },
    {
     "name": "stdout",
     "output_type": "stream",
     "text": [
      "Finished Square Feet\n",
      "1.0         8\n",
      "2.0         5\n",
      "3.0         9\n",
      "4.0         1\n",
      "6.0         1\n",
      "           ..\n",
      "522511.0    1\n",
      "531118.0    1\n",
      "617114.0    1\n",
      "820242.0    1\n",
      "952576.0    1\n",
      "Name: count, Length: 12542, dtype: int64\n",
      "\n",
      "Structure Tax Value\n"
     ]
    },
    {
     "data": {
      "image/png": "[encoded data removed]",
      "text/plain": [
       "<Figure size 640x480 with 1 Axes>"
      ]
     },
     "metadata": {},
     "output_type": "display_data"
    },
    {
     "name": "stdout",
     "output_type": "stream",
     "text": [
      "Structure Tax Value\n",
      "9.0            30\n",
      "10.0           18\n",
      "29.0            1\n",
      "37.0            1\n",
      "39.0            4\n",
      "               ..\n",
      "110857349.0     1\n",
      "123371992.0     1\n",
      "141417470.0     1\n",
      "222334475.0     1\n",
      "255321161.0     1\n",
      "Name: count, Length: 428558, dtype: int64\n",
      "\n",
      "Tax Value\n"
     ]
    },
    {
     "data": {
      "image/png": "[encoded data removed]",
      "text/plain": [
       "<Figure size 640x480 with 1 Axes>"
      ]
     },
     "metadata": {},
     "output_type": "display_data"
    },
    {
     "name": "stdout",
     "output_type": "stream",
     "text": [
      "Tax Value\n",
      "23.0           6\n",
      "31.0           1\n",
      "34.0           1\n",
      "46.0           1\n",
      "100.0          1\n",
      "              ..\n",
      "128060323.0    1\n",
      "146257183.0    1\n",
      "151895087.0    1\n",
      "271004605.0    1\n",
      "287098486.0    1\n",
      "Name: count, Length: 645346, dtype: int64\n",
      "\n",
      "Year Built\n"
     ]
    },
    {
     "data": {
      "image/png": "[encoded data removed]",
      "text/plain": [
       "<Figure size 640x480 with 1 Axes>"
      ]
     },
     "metadata": {},
     "output_type": "display_data"
    },
    {
     "name": "stdout",
     "output_type": "stream",
     "text": [
      "Year Built\n",
      "1801.0       3\n",
      "1802.0       1\n",
      "1805.0       1\n",
      "1806.0       2\n",
      "1807.0       1\n",
      "          ... \n",
      "2012.0    6638\n",
      "2013.0    8945\n",
      "2014.0    8749\n",
      "2015.0    6152\n",
      "2016.0     162\n",
      "Name: count, Length: 183, dtype: int64\n",
      "\n",
      "Tax Amount\n"
     ]
    },
    {
     "data": {
      "image/png": "[encoded data removed]",
      "text/plain": [
       "<Figure size 640x480 with 1 Axes>"
      ]
     },
     "metadata": {},
     "output_type": "display_data"
    },
    {
     "name": "stdout",
     "output_type": "stream",
     "text": [
      "Tax Amount\n",
      "5.04          1\n",
      "6.34          1\n",
      "7.04          1\n",
      "9.04          1\n",
      "11.94         1\n",
      "             ..\n",
      "1765815.87    1\n",
      "1783886.44    1\n",
      "1840935.06    1\n",
      "3277055.20    1\n",
      "3458861.12    1\n",
      "Name: count, Length: 1026497, dtype: int64\n",
      "\n",
      "FIPS\n"
     ]
    },
    {
     "ename": "TypeError",
     "evalue": "Horizontal orientation requires numeric `x` variable.",
     "output_type": "error",
     "traceback": [
      "\u001b[0;31m---------------------------------------------------------------------------\u001b[0m",
      "\u001b[0;31mTypeError\u001b[0m                                 Traceback (most recent call last)",
      "Cell \u001b[0;32mIn[12], line 7\u001b[0m\n\u001b[1;32m      5\u001b[0m \u001b[38;5;28;01mfor\u001b[39;00m col \u001b[38;5;129;01min\u001b[39;00m zillow\u001b[38;5;241m.\u001b[39mcolumns[:\u001b[38;5;241m-\u001b[39m\u001b[38;5;241m1\u001b[39m]:\n\u001b[1;32m      6\u001b[0m     \u001b[38;5;28mprint\u001b[39m(col)\n\u001b[0;32m----> 7\u001b[0m     sns\u001b[38;5;241m.\u001b[39mboxplot(data\u001b[38;5;241m=\u001b[39mzillow, x\u001b[38;5;241m=\u001b[39mcol)\n\u001b[1;32m      8\u001b[0m     plt\u001b[38;5;241m.\u001b[39mshow()\n\u001b[1;32m     10\u001b[0m     \u001b[38;5;28mprint\u001b[39m(zillow[col]\u001b[38;5;241m.\u001b[39mvalue_counts()\u001b[38;5;241m.\u001b[39msort_index())\n",
      "File \u001b[0;32m/opt/homebrew/anaconda3/lib/python3.11/site-packages/seaborn/categorical.py:2231\u001b[0m, in \u001b[0;36mboxplot\u001b[0;34m(data, x, y, hue, order, hue_order, orient, color, palette, saturation, width, dodge, fliersize, linewidth, whis, ax, **kwargs)\u001b[0m\n\u001b[1;32m   2224\u001b[0m \u001b[38;5;28;01mdef\u001b[39;00m \u001b[38;5;21mboxplot\u001b[39m(\n\u001b[1;32m   2225\u001b[0m     data\u001b[38;5;241m=\u001b[39m\u001b[38;5;28;01mNone\u001b[39;00m, \u001b[38;5;241m*\u001b[39m, x\u001b[38;5;241m=\u001b[39m\u001b[38;5;28;01mNone\u001b[39;00m, y\u001b[38;5;241m=\u001b[39m\u001b[38;5;28;01mNone\u001b[39;00m, hue\u001b[38;5;241m=\u001b[39m\u001b[38;5;28;01mNone\u001b[39;00m, order\u001b[38;5;241m=\u001b[39m\u001b[38;5;28;01mNone\u001b[39;00m, hue_order\u001b[38;5;241m=\u001b[39m\u001b[38;5;28;01mNone\u001b[39;00m,\n\u001b[1;32m   2226\u001b[0m     orient\u001b[38;5;241m=\u001b[39m\u001b[38;5;28;01mNone\u001b[39;00m, color\u001b[38;5;241m=\u001b[39m\u001b[38;5;28;01mNone\u001b[39;00m, palette\u001b[38;5;241m=\u001b[39m\u001b[38;5;28;01mNone\u001b[39;00m, saturation\u001b[38;5;241m=\u001b[39m\u001b[38;5;241m.75\u001b[39m, width\u001b[38;5;241m=\u001b[39m\u001b[38;5;241m.8\u001b[39m,\n\u001b[1;32m   2227\u001b[0m     dodge\u001b[38;5;241m=\u001b[39m\u001b[38;5;28;01mTrue\u001b[39;00m, fliersize\u001b[38;5;241m=\u001b[39m\u001b[38;5;241m5\u001b[39m, linewidth\u001b[38;5;241m=\u001b[39m\u001b[38;5;28;01mNone\u001b[39;00m, whis\u001b[38;5;241m=\u001b[39m\u001b[38;5;241m1.5\u001b[39m, ax\u001b[38;5;241m=\u001b[39m\u001b[38;5;28;01mNone\u001b[39;00m,\n\u001b[1;32m   2228\u001b[0m     \u001b[38;5;241m*\u001b[39m\u001b[38;5;241m*\u001b[39mkwargs\n\u001b[1;32m   2229\u001b[0m ):\n\u001b[0;32m-> 2231\u001b[0m     plotter \u001b[38;5;241m=\u001b[39m _BoxPlotter(x, y, hue, data, order, hue_order,\n\u001b[1;32m   2232\u001b[0m                           orient, color, palette, saturation,\n\u001b[1;32m   2233\u001b[0m                           width, dodge, fliersize, linewidth)\n\u001b[1;32m   2235\u001b[0m     \u001b[38;5;28;01mif\u001b[39;00m ax \u001b[38;5;129;01mis\u001b[39;00m \u001b[38;5;28;01mNone\u001b[39;00m:\n\u001b[1;32m   2236\u001b[0m         ax \u001b[38;5;241m=\u001b[39m plt\u001b[38;5;241m.\u001b[39mgca()\n",
      "File \u001b[0;32m/opt/homebrew/anaconda3/lib/python3.11/site-packages/seaborn/categorical.py:785\u001b[0m, in \u001b[0;36m_BoxPlotter.__init__\u001b[0;34m(self, x, y, hue, data, order, hue_order, orient, color, palette, saturation, width, dodge, fliersize, linewidth)\u001b[0m\n\u001b[1;32m    781\u001b[0m \u001b[38;5;28;01mdef\u001b[39;00m \u001b[38;5;21m__init__\u001b[39m(\u001b[38;5;28mself\u001b[39m, x, y, hue, data, order, hue_order,\n\u001b[1;32m    782\u001b[0m              orient, color, palette, saturation,\n\u001b[1;32m    783\u001b[0m              width, dodge, fliersize, linewidth):\n\u001b[0;32m--> 785\u001b[0m     \u001b[38;5;28mself\u001b[39m\u001b[38;5;241m.\u001b[39mestablish_variables(x, y, hue, data, orient, order, hue_order)\n\u001b[1;32m    786\u001b[0m     \u001b[38;5;28mself\u001b[39m\u001b[38;5;241m.\u001b[39mestablish_colors(color, palette, saturation)\n\u001b[1;32m    788\u001b[0m     \u001b[38;5;28mself\u001b[39m\u001b[38;5;241m.\u001b[39mdodge \u001b[38;5;241m=\u001b[39m dodge\n",
      "File \u001b[0;32m/opt/homebrew/anaconda3/lib/python3.11/site-packages/seaborn/categorical.py:544\u001b[0m, in \u001b[0;36m_CategoricalPlotter.establish_variables\u001b[0;34m(self, x, y, hue, data, orient, order, hue_order, units)\u001b[0m\n\u001b[1;32m    541\u001b[0m         \u001b[38;5;28;01mraise\u001b[39;00m \u001b[38;5;167;01mValueError\u001b[39;00m(err)\n\u001b[1;32m    543\u001b[0m \u001b[38;5;66;03m# Figure out the plotting orientation\u001b[39;00m\n\u001b[0;32m--> 544\u001b[0m orient \u001b[38;5;241m=\u001b[39m infer_orient(\n\u001b[1;32m    545\u001b[0m     x, y, orient, require_numeric\u001b[38;5;241m=\u001b[39m\u001b[38;5;28mself\u001b[39m\u001b[38;5;241m.\u001b[39mrequire_numeric\n\u001b[1;32m    546\u001b[0m )\n\u001b[1;32m    548\u001b[0m \u001b[38;5;66;03m# Option 2a:\u001b[39;00m\n\u001b[1;32m    549\u001b[0m \u001b[38;5;66;03m# We are plotting a single set of data\u001b[39;00m\n\u001b[1;32m    550\u001b[0m \u001b[38;5;66;03m# ------------------------------------\u001b[39;00m\n\u001b[1;32m    551\u001b[0m \u001b[38;5;28;01mif\u001b[39;00m x \u001b[38;5;129;01mis\u001b[39;00m \u001b[38;5;28;01mNone\u001b[39;00m \u001b[38;5;129;01mor\u001b[39;00m y \u001b[38;5;129;01mis\u001b[39;00m \u001b[38;5;28;01mNone\u001b[39;00m:\n\u001b[1;32m    552\u001b[0m \n\u001b[1;32m    553\u001b[0m     \u001b[38;5;66;03m# Determine where the data are\u001b[39;00m\n",
      "File \u001b[0;32m/opt/homebrew/anaconda3/lib/python3.11/site-packages/seaborn/_oldcore.py:1601\u001b[0m, in \u001b[0;36minfer_orient\u001b[0;34m(x, y, orient, require_numeric)\u001b[0m\n\u001b[1;32m   1599\u001b[0m         warnings\u001b[38;5;241m.\u001b[39mwarn(single_var_warning\u001b[38;5;241m.\u001b[39mformat(\u001b[38;5;124m\"\u001b[39m\u001b[38;5;124mVertical\u001b[39m\u001b[38;5;124m\"\u001b[39m, \u001b[38;5;124m\"\u001b[39m\u001b[38;5;124mx\u001b[39m\u001b[38;5;124m\"\u001b[39m))\n\u001b[1;32m   1600\u001b[0m     \u001b[38;5;28;01mif\u001b[39;00m require_numeric \u001b[38;5;129;01mand\u001b[39;00m x_type \u001b[38;5;241m!=\u001b[39m \u001b[38;5;124m\"\u001b[39m\u001b[38;5;124mnumeric\u001b[39m\u001b[38;5;124m\"\u001b[39m:\n\u001b[0;32m-> 1601\u001b[0m         \u001b[38;5;28;01mraise\u001b[39;00m \u001b[38;5;167;01mTypeError\u001b[39;00m(nonnumeric_dv_error\u001b[38;5;241m.\u001b[39mformat(\u001b[38;5;124m\"\u001b[39m\u001b[38;5;124mHorizontal\u001b[39m\u001b[38;5;124m\"\u001b[39m, \u001b[38;5;124m\"\u001b[39m\u001b[38;5;124mx\u001b[39m\u001b[38;5;124m\"\u001b[39m))\n\u001b[1;32m   1602\u001b[0m     \u001b[38;5;28;01mreturn\u001b[39;00m \u001b[38;5;124m\"\u001b[39m\u001b[38;5;124mh\u001b[39m\u001b[38;5;124m\"\u001b[39m\n\u001b[1;32m   1604\u001b[0m \u001b[38;5;28;01melif\u001b[39;00m \u001b[38;5;28mstr\u001b[39m(orient)\u001b[38;5;241m.\u001b[39mstartswith(\u001b[38;5;124m\"\u001b[39m\u001b[38;5;124mv\u001b[39m\u001b[38;5;124m\"\u001b[39m):\n",
      "\u001b[0;31mTypeError\u001b[0m: Horizontal orientation requires numeric `x` variable."
     ]
    }
   ],
   "source": [
    "import seaborn as sns\n",
    "import warnings\n",
    "warnings.filterwarnings(\"ignore\")\n",
    "\n",
    "for col in zillow.columns[:-1]:\n",
    "    print(col)\n",
    "    sns.boxplot(data=zillow, x=col)\n",
    "    plt.show()\n",
    "    \n",
    "    print(zillow[col].value_counts().sort_index())\n",
    "    print()"
   ]
  },
  {
   "cell_type": "code",
   "execution_count": 7,
   "id": "548b8cd6-9141-4550-aa5c-f392c632fc0e",
   "metadata": {},
   "outputs": [
    {
     "data": {
      "image/png": "[encoded data removed]",
      "text/plain": [
       "<Figure size 1200x1000 with 7 Axes>"
      ]
     },
     "metadata": {},
     "output_type": "display_data"
    }
   ],
   "source": [
    "import matplotlib.pyplot as plt\n",
    "import pandas as pd\n",
    "\n",
    "# Assuming your DataFrame is named 'zillow'\n",
    "columns_to_plot = ['Bedroom Count', 'Bathroom Count', 'Finished Square Feet',\n",
    "       'Structure Tax Value', 'Tax Value', 'Year Built', 'Tax Amount']\n",
    "\n",
    "fig, axes = plt.subplots(nrows=3, ncols=4, figsize=(12, 10))\n",
    "\n",
    "# Flatten the axes array for easier iteration\n",
    "axes = axes.flatten()\n",
    "\n",
    "for i, column in enumerate(columns_to_plot):\n",
    "    zillow.boxplot(column=column, ax=axes[i])\n",
    "    axes[i].set_title(column)\n",
    "\n",
    "# Remove any unused subplots\n",
    "for j in range(len(columns_to_plot), len(axes)):\n",
    "    fig.delaxes(axes[j])\n",
    "\n",
    "plt.tight_layout()\n",
    "plt.show()\n"
   ]
  },
  {
   "cell_type": "code",
   "execution_count": null,
   "id": "d3a27fc9-73d3-484c-aa9b-c2b14fbf782f",
   "metadata": {},
   "outputs": [],
   "source": []
  },
  {
   "cell_type": "markdown",
   "id": "11d725c9-13f4-40bc-a193-2b04d172c762",
   "metadata": {},
   "source": [
    "zillow['Finished Square Feet'].describe()"
   ]
  },
  {
   "cell_type": "code",
   "execution_count": 19,
   "id": "e1d4e248-05ee-4154-a78a-d44b6a300a0b",
   "metadata": {},
   "outputs": [],
   "source": [
    "zillow = zillow.dropna()"
   ]
  },
  {
   "cell_type": "code",
   "execution_count": 20,
   "id": "c6a0ff76-96ef-44e8-8edb-96d9fc1130d5",
   "metadata": {},
   "outputs": [
    {
     "data": {
      "text/plain": [
       "Bedroom Count           0\n",
       "Bathroom Count          0\n",
       "Finished Square Feet    0\n",
       "Structure Tax Value     0\n",
       "Tax Value               0\n",
       "Year Built              0\n",
       "Tax Amount              0\n",
       "FIPS                    0\n",
       "Property Land Use       0\n",
       "dtype: int64"
      ]
     },
     "execution_count": 20,
     "metadata": {},
     "output_type": "execute_result"
    }
   ],
   "source": [
    "zillow.isna().sum()"
   ]
  },
  {
   "cell_type": "code",
   "execution_count": 21,
   "id": "cecac134-c949-4ad5-826a-d64b5e6886f6",
   "metadata": {},
   "outputs": [
    {
     "name": "stdout",
     "output_type": "stream",
     "text": [
      "FIPS\n",
      "6037.0    1969549\n",
      "6059.0     717696\n",
      "6111.0     212989\n",
      "Name: count, dtype: int64\n",
      "6037: LA County\n",
      "6059: Orange County\n",
      "6111: Ventura County\n"
     ]
    }
   ],
   "source": [
    "print(zillow['FIPS'].value_counts())\n",
    "print('6037: LA County')\n",
    "print('6059: Orange County')\n",
    "print('6111: Ventura County')\n"
   ]
  },
  {
   "cell_type": "code",
   "execution_count": 22,
   "id": "ce497de2-8b48-4262-b82f-d05c84af9291",
   "metadata": {},
   "outputs": [],
   "source": [
    "class_mapping = {6037: 'LA County', 6059: 'Orange County', 6111: 'Ventura County'}"
   ]
  },
  {
   "cell_type": "code",
   "execution_count": 23,
   "id": "13dd6f4c-04a8-4055-a4ed-09cf1a452430",
   "metadata": {},
   "outputs": [],
   "source": [
    "zillow['FIPS'] = zillow['FIPS'].replace(class_mapping)"
   ]
  },
  {
   "cell_type": "code",
   "execution_count": 24,
   "id": "c4dbcfef-8027-4e6a-b4cb-ad603f48efbc",
   "metadata": {},
   "outputs": [
    {
     "data": {
      "text/html": [
       "<div>\n",
       "<style scoped>\n",
       "    .dataframe tbody tr th:only-of-type {\n",
       "        vertical-align: middle;\n",
       "    }\n",
       "\n",
       "    .dataframe tbody tr th {\n",
       "        vertical-align: top;\n",
       "    }\n",
       "\n",
       "    .dataframe thead th {\n",
       "        text-align: right;\n",
       "    }\n",
       "</style>\n",
       "<table border=\"1\" class=\"dataframe\">\n",
       "  <thead>\n",
       "    <tr style=\"text-align: right;\">\n",
       "      <th></th>\n",
       "      <th>Bedroom Count</th>\n",
       "      <th>Bathroom Count</th>\n",
       "      <th>Finished Square Feet</th>\n",
       "      <th>Structure Tax Value</th>\n",
       "      <th>Tax Value</th>\n",
       "      <th>Year Built</th>\n",
       "      <th>Tax Amount</th>\n",
       "      <th>FIPS</th>\n",
       "      <th>Property Land Use</th>\n",
       "    </tr>\n",
       "  </thead>\n",
       "  <tbody>\n",
       "    <tr>\n",
       "      <th>2</th>\n",
       "      <td>0.0</td>\n",
       "      <td>0.0</td>\n",
       "      <td>73026.0</td>\n",
       "      <td>660680.0</td>\n",
       "      <td>1434941.0</td>\n",
       "      <td>1959.0</td>\n",
       "      <td>20800.37</td>\n",
       "      <td>LA County</td>\n",
       "      <td>Store/Office (Mixed Use)</td>\n",
       "    </tr>\n",
       "    <tr>\n",
       "      <th>3</th>\n",
       "      <td>0.0</td>\n",
       "      <td>0.0</td>\n",
       "      <td>5068.0</td>\n",
       "      <td>580059.0</td>\n",
       "      <td>1174475.0</td>\n",
       "      <td>1948.0</td>\n",
       "      <td>14557.57</td>\n",
       "      <td>LA County</td>\n",
       "      <td>Store/Office (Mixed Use)</td>\n",
       "    </tr>\n",
       "    <tr>\n",
       "      <th>4</th>\n",
       "      <td>0.0</td>\n",
       "      <td>0.0</td>\n",
       "      <td>1776.0</td>\n",
       "      <td>196751.0</td>\n",
       "      <td>440101.0</td>\n",
       "      <td>1947.0</td>\n",
       "      <td>5725.17</td>\n",
       "      <td>LA County</td>\n",
       "      <td>Commercial/Office/Residential Mixed Used</td>\n",
       "    </tr>\n",
       "    <tr>\n",
       "      <th>5</th>\n",
       "      <td>0.0</td>\n",
       "      <td>0.0</td>\n",
       "      <td>2400.0</td>\n",
       "      <td>179072.0</td>\n",
       "      <td>287634.0</td>\n",
       "      <td>1943.0</td>\n",
       "      <td>3661.28</td>\n",
       "      <td>LA County</td>\n",
       "      <td>Commercial/Office/Residential Mixed Used</td>\n",
       "    </tr>\n",
       "    <tr>\n",
       "      <th>7</th>\n",
       "      <td>0.0</td>\n",
       "      <td>0.0</td>\n",
       "      <td>3611.0</td>\n",
       "      <td>103553.0</td>\n",
       "      <td>698984.0</td>\n",
       "      <td>1946.0</td>\n",
       "      <td>7857.84</td>\n",
       "      <td>LA County</td>\n",
       "      <td>Commercial/Office/Residential Mixed Used</td>\n",
       "    </tr>\n",
       "  </tbody>\n",
       "</table>\n",
       "</div>"
      ],
      "text/plain": [
       "   Bedroom Count  Bathroom Count  Finished Square Feet  Structure Tax Value  \\\n",
       "2            0.0             0.0               73026.0             660680.0   \n",
       "3            0.0             0.0                5068.0             580059.0   \n",
       "4            0.0             0.0                1776.0             196751.0   \n",
       "5            0.0             0.0                2400.0             179072.0   \n",
       "7            0.0             0.0                3611.0             103553.0   \n",
       "\n",
       "   Tax Value  Year Built  Tax Amount       FIPS  \\\n",
       "2  1434941.0      1959.0    20800.37  LA County   \n",
       "3  1174475.0      1948.0    14557.57  LA County   \n",
       "4   440101.0      1947.0     5725.17  LA County   \n",
       "5   287634.0      1943.0     3661.28  LA County   \n",
       "7   698984.0      1946.0     7857.84  LA County   \n",
       "\n",
       "                          Property Land Use  \n",
       "2                  Store/Office (Mixed Use)  \n",
       "3                  Store/Office (Mixed Use)  \n",
       "4  Commercial/Office/Residential Mixed Used  \n",
       "5  Commercial/Office/Residential Mixed Used  \n",
       "7  Commercial/Office/Residential Mixed Used  "
      ]
     },
     "execution_count": 24,
     "metadata": {},
     "output_type": "execute_result"
    }
   ],
   "source": [
    "zillow.head()"
   ]
  },
  {
   "cell_type": "code",
   "execution_count": null,
   "id": "92f771f6-9b06-4d62-92ab-4e44f876b020",
   "metadata": {},
   "outputs": [],
   "source": []
  },
  {
   "cell_type": "code",
   "execution_count": null,
   "id": "08235b40-a842-4d42-af8a-e98122dd89f7",
   "metadata": {},
   "outputs": [],
   "source": []
  },
  {
   "cell_type": "code",
   "execution_count": null,
   "id": "e970fe2d-f958-4675-a976-e065088d537d",
   "metadata": {},
   "outputs": [],
   "source": []
  },
  {
   "cell_type": "code",
   "execution_count": null,
   "id": "ba52406d-f136-4732-bd30-8584a2740acf",
   "metadata": {},
   "outputs": [],
   "source": []
  },
  {
   "cell_type": "code",
   "execution_count": null,
   "id": "7fc3f560-d2ad-422e-8195-e4e5567ea7fa",
   "metadata": {},
   "outputs": [],
   "source": []
  },
  {
   "cell_type": "code",
   "execution_count": null,
   "id": "98076c31-2ad4-4751-b1e6-1adc5ab16024",
   "metadata": {},
   "outputs": [],
   "source": []
  },
  {
   "cell_type": "code",
   "execution_count": null,
   "id": "def15842-c6f1-4b07-ba4b-153f46fd074b",
   "metadata": {},
   "outputs": [],
   "source": []
  },
  {
   "cell_type": "code",
   "execution_count": null,
   "id": "4a09e33e-ddaf-429d-ba4e-6e03517cadc8",
   "metadata": {},
   "outputs": [],
   "source": []
  },
  {
   "cell_type": "code",
   "execution_count": null,
   "id": "75ce539a-9d7f-408b-ab28-eda5d97fd501",
   "metadata": {},
   "outputs": [],
   "source": []
  }
 ],
 "metadata": {
  "kernelspec": {
   "display_name": "Python 3 (ipykernel)",
   "language": "python",
   "name": "python3"
  },
  "language_info": {
   "codemirror_mode": {
    "name": "ipython",
    "version": 3
   },
   "file_extension": ".py",
   "mimetype": "text/x-python",
   "name": "python",
   "nbconvert_exporter": "python",
   "pygments_lexer": "ipython3",
   "version": "3.11.5"
  }
 },
 "nbformat": 4,
 "nbformat_minor": 5
}
